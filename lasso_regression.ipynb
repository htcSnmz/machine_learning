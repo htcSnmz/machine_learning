{
 "cells": [
  {
   "cell_type": "code",
   "execution_count": 1,
   "id": "c327fec6",
   "metadata": {},
   "outputs": [],
   "source": [
    "import numpy as np\n",
    "import pandas as pd\n",
    "from sklearn.model_selection import train_test_split\n",
    "from sklearn.linear_model import Ridge, RidgeCV, Lasso, LassoCV"
   ]
  },
  {
   "cell_type": "code",
   "execution_count": 2,
   "id": "e4407446",
   "metadata": {},
   "outputs": [],
   "source": [
    "data_url = \"http://lib.stat.cmu.edu/datasets/boston\"\n",
    "raw_df = pd.read_csv(data_url, sep=\"\\s+\", skiprows=22, header=None)\n",
    "data = np.hstack([raw_df.values[::2, :], raw_df.values[1::2, :2]])\n",
    "target = raw_df.values[1::2, 2]"
   ]
  },
  {
   "cell_type": "code",
   "execution_count": 3,
   "id": "727127d5",
   "metadata": {
    "scrolled": false
   },
   "outputs": [
    {
     "data": {
      "text/plain": [
       "array([[6.3200e-03, 1.8000e+01, 2.3100e+00, ..., 1.5300e+01, 3.9690e+02,\n",
       "        4.9800e+00],\n",
       "       [2.7310e-02, 0.0000e+00, 7.0700e+00, ..., 1.7800e+01, 3.9690e+02,\n",
       "        9.1400e+00],\n",
       "       [2.7290e-02, 0.0000e+00, 7.0700e+00, ..., 1.7800e+01, 3.9283e+02,\n",
       "        4.0300e+00],\n",
       "       ...,\n",
       "       [6.0760e-02, 0.0000e+00, 1.1930e+01, ..., 2.1000e+01, 3.9690e+02,\n",
       "        5.6400e+00],\n",
       "       [1.0959e-01, 0.0000e+00, 1.1930e+01, ..., 2.1000e+01, 3.9345e+02,\n",
       "        6.4800e+00],\n",
       "       [4.7410e-02, 0.0000e+00, 1.1930e+01, ..., 2.1000e+01, 3.9690e+02,\n",
       "        7.8800e+00]])"
      ]
     },
     "execution_count": 3,
     "metadata": {},
     "output_type": "execute_result"
    }
   ],
   "source": [
    "data"
   ]
  },
  {
   "cell_type": "code",
   "execution_count": 4,
   "id": "3d5c7f23",
   "metadata": {},
   "outputs": [
    {
     "data": {
      "text/plain": [
       "array([24. , 21.6, 34.7, 33.4, 36.2, 28.7, 22.9, 27.1, 16.5, 18.9])"
      ]
     },
     "execution_count": 4,
     "metadata": {},
     "output_type": "execute_result"
    }
   ],
   "source": [
    "target[0:10]"
   ]
  },
  {
   "cell_type": "code",
   "execution_count": 5,
   "id": "9c48530e",
   "metadata": {},
   "outputs": [],
   "source": [
    "X_train, X_test, y_train, y_test = train_test_split(data, target, test_size=0.2, random_state=42)"
   ]
  },
  {
   "cell_type": "markdown",
   "id": "01c38de8",
   "metadata": {},
   "source": [
    "### with Ridge"
   ]
  },
  {
   "cell_type": "code",
   "execution_count": 6,
   "id": "c4416291",
   "metadata": {},
   "outputs": [
    {
     "name": "stdout",
     "output_type": "stream",
     "text": [
      "0.750827350977196\n",
      "0.6686244122021412\n"
     ]
    }
   ],
   "source": [
    "ridge_model = Ridge(alpha=0.1).fit(X_train, y_train)\n",
    "predict_ridge = ridge_model.predict(X_test)\n",
    "\n",
    "print(ridge_model.score(X_train, y_train))\n",
    "print(ridge_model.score(X_test, y_test))"
   ]
  },
  {
   "cell_type": "markdown",
   "id": "fc4be550",
   "metadata": {},
   "source": [
    "### with Lasso"
   ]
  },
  {
   "cell_type": "code",
   "execution_count": 7,
   "id": "602253bd",
   "metadata": {},
   "outputs": [
    {
     "name": "stdout",
     "output_type": "stream",
     "text": [
      "0.7382419735910873\n",
      "0.6569712802223936\n"
     ]
    }
   ],
   "source": [
    "lasso_model = Lasso(alpha=0.1).fit(X_train, y_train)\n",
    "\n",
    "print(lasso_model.score(X_train, y_train))\n",
    "print(lasso_model.score(X_test, y_test))"
   ]
  },
  {
   "cell_type": "code",
   "execution_count": 8,
   "id": "3718f368",
   "metadata": {},
   "outputs": [
    {
     "name": "stdout",
     "output_type": "stream",
     "text": [
      "[-1.12399694e-01  3.04593914e-02  3.48958400e-02  2.75033318e+00\n",
      " -1.59244585e+01  4.44577949e+00 -7.30474388e-03 -1.42960751e+00\n",
      "  2.60042840e-01 -1.07802286e-02 -9.00771040e-01  1.24004789e-02\n",
      " -5.10902332e-01]\n",
      "[-0.10415691  0.03489335 -0.01678527  0.91995182 -0.          4.31168655\n",
      " -0.01512583 -1.15148729  0.23923695 -0.01296223 -0.73224678  0.01309057\n",
      " -0.56467442]\n"
     ]
    }
   ],
   "source": [
    "print(ridge_model.coef_)\n",
    "print(lasso_model.coef_) # including 0"
   ]
  },
  {
   "cell_type": "markdown",
   "id": "2aa38657",
   "metadata": {},
   "source": [
    "### Lasso with cross validation"
   ]
  },
  {
   "cell_type": "code",
   "execution_count": 9,
   "id": "04c20ada",
   "metadata": {},
   "outputs": [
    {
     "name": "stdout",
     "output_type": "stream",
     "text": [
      "0.7112607795804334\n"
     ]
    }
   ],
   "source": [
    "lasso_cv = LassoCV(cv=10, max_iter=10000).fit(X_train, y_train)\n",
    "print(lasso_cv.alpha_)"
   ]
  },
  {
   "cell_type": "code",
   "execution_count": 10,
   "id": "31ab7544",
   "metadata": {},
   "outputs": [
    {
     "name": "stdout",
     "output_type": "stream",
     "text": [
      "0.7157406210167571\n",
      "0.6706431115795963\n"
     ]
    }
   ],
   "source": [
    "lasso_model2 = Lasso(alpha=lasso_cv.alpha_).fit(X_train, y_train)\n",
    "\n",
    "print(lasso_model2.score(X_train, y_train))\n",
    "print(lasso_model2.score(X_test, y_test))"
   ]
  },
  {
   "cell_type": "code",
   "execution_count": null,
   "id": "adf903b5",
   "metadata": {},
   "outputs": [],
   "source": []
  }
 ],
 "metadata": {
  "kernelspec": {
   "display_name": "Python 3 (ipykernel)",
   "language": "python",
   "name": "python3"
  },
  "language_info": {
   "codemirror_mode": {
    "name": "ipython",
    "version": 3
   },
   "file_extension": ".py",
   "mimetype": "text/x-python",
   "name": "python",
   "nbconvert_exporter": "python",
   "pygments_lexer": "ipython3",
   "version": "3.9.17"
  }
 },
 "nbformat": 4,
 "nbformat_minor": 5
}
