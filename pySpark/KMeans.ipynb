{
 "cells": [
  {
   "cell_type": "code",
   "execution_count": 1,
   "id": "d8c87125",
   "metadata": {},
   "outputs": [],
   "source": [
    "import findspark\n",
    "findspark.init()"
   ]
  },
  {
   "cell_type": "code",
   "execution_count": 2,
   "id": "3c188128",
   "metadata": {},
   "outputs": [],
   "source": [
    "from pyspark.ml import Pipeline\n",
    "from pyspark.ml.clustering import KMeans\n",
    "from pyspark.ml.feature import StandardScaler, VectorAssembler\n",
    "from pyspark.ml.evaluation import ClusteringEvaluator\n",
    "from pyspark.sql import SparkSession\n",
    "import warnings\n",
    "warnings.filterwarnings(\"ignore\")"
   ]
  },
  {
   "cell_type": "code",
   "execution_count": 3,
   "id": "f2edbb55",
   "metadata": {},
   "outputs": [],
   "source": [
    "spark = SparkSession.builder \\\n",
    "        .appName(\"MallCustomerClustering\") \\\n",
    "        .master(\"local[4]\") \\\n",
    "        .config(\"spark.executor.memory\", \"4g\") \\\n",
    "        .getOrCreate()"
   ]
  },
  {
   "cell_type": "code",
   "execution_count": 4,
   "id": "30edf953",
   "metadata": {},
   "outputs": [],
   "source": [
    "df = spark.read.format(\"csv\") \\\n",
    "    .option(\"header\", True) \\\n",
    "    .option(\"sep\", \",\") \\\n",
    "    .option(\"inferSchema\", True) \\\n",
    "    .load(\"C:/Users/htcso/OneDrive/Masaüstü/pySpark/dataset/MallCustomers.csv\")"
   ]
  },
  {
   "cell_type": "code",
   "execution_count": 5,
   "id": "e28026a5",
   "metadata": {},
   "outputs": [
    {
     "data": {
      "text/html": [
       "<div>\n",
       "<style scoped>\n",
       "    .dataframe tbody tr th:only-of-type {\n",
       "        vertical-align: middle;\n",
       "    }\n",
       "\n",
       "    .dataframe tbody tr th {\n",
       "        vertical-align: top;\n",
       "    }\n",
       "\n",
       "    .dataframe thead th {\n",
       "        text-align: right;\n",
       "    }\n",
       "</style>\n",
       "<table border=\"1\" class=\"dataframe\">\n",
       "  <thead>\n",
       "    <tr style=\"text-align: right;\">\n",
       "      <th></th>\n",
       "      <th>CustomerID</th>\n",
       "      <th>Gender</th>\n",
       "      <th>Age</th>\n",
       "      <th>AnnualIncome</th>\n",
       "      <th>SpendingScore</th>\n",
       "    </tr>\n",
       "  </thead>\n",
       "  <tbody>\n",
       "    <tr>\n",
       "      <th>0</th>\n",
       "      <td>1</td>\n",
       "      <td>Male</td>\n",
       "      <td>19</td>\n",
       "      <td>15</td>\n",
       "      <td>39</td>\n",
       "    </tr>\n",
       "    <tr>\n",
       "      <th>1</th>\n",
       "      <td>2</td>\n",
       "      <td>Male</td>\n",
       "      <td>21</td>\n",
       "      <td>15</td>\n",
       "      <td>81</td>\n",
       "    </tr>\n",
       "    <tr>\n",
       "      <th>2</th>\n",
       "      <td>3</td>\n",
       "      <td>Female</td>\n",
       "      <td>20</td>\n",
       "      <td>16</td>\n",
       "      <td>6</td>\n",
       "    </tr>\n",
       "    <tr>\n",
       "      <th>3</th>\n",
       "      <td>4</td>\n",
       "      <td>Female</td>\n",
       "      <td>23</td>\n",
       "      <td>16</td>\n",
       "      <td>77</td>\n",
       "    </tr>\n",
       "    <tr>\n",
       "      <th>4</th>\n",
       "      <td>5</td>\n",
       "      <td>Female</td>\n",
       "      <td>31</td>\n",
       "      <td>17</td>\n",
       "      <td>40</td>\n",
       "    </tr>\n",
       "  </tbody>\n",
       "</table>\n",
       "</div>"
      ],
      "text/plain": [
       "   CustomerID  Gender  Age  AnnualIncome  SpendingScore\n",
       "0           1    Male   19            15             39\n",
       "1           2    Male   21            15             81\n",
       "2           3  Female   20            16              6\n",
       "3           4  Female   23            16             77\n",
       "4           5  Female   31            17             40"
      ]
     },
     "execution_count": 5,
     "metadata": {},
     "output_type": "execute_result"
    }
   ],
   "source": [
    "df.limit(5).toPandas().head()"
   ]
  },
  {
   "cell_type": "code",
   "execution_count": 6,
   "id": "ed7745ec",
   "metadata": {},
   "outputs": [
    {
     "name": "stdout",
     "output_type": "stream",
     "text": [
      "root\n",
      " |-- CustomerID: integer (nullable = true)\n",
      " |-- Gender: string (nullable = true)\n",
      " |-- Age: integer (nullable = true)\n",
      " |-- AnnualIncome: integer (nullable = true)\n",
      " |-- SpendingScore: integer (nullable = true)\n",
      "\n"
     ]
    }
   ],
   "source": [
    "df.printSchema()"
   ]
  },
  {
   "cell_type": "code",
   "execution_count": 7,
   "id": "42a83fd2",
   "metadata": {},
   "outputs": [
    {
     "name": "stdout",
     "output_type": "stream",
     "text": [
      "+-------+------------------+------+-----------------+-----------------+------------------+\n",
      "|summary|        CustomerID|Gender|              Age|     AnnualIncome|     SpendingScore|\n",
      "+-------+------------------+------+-----------------+-----------------+------------------+\n",
      "|  count|               200|   200|              200|              200|               200|\n",
      "|   mean|             100.5|  NULL|            38.85|            60.56|              50.2|\n",
      "| stddev|57.879184513951124|  NULL|13.96900733155888|26.26472116527124|25.823521668370173|\n",
      "|    min|                 1|Female|               18|               15|                 1|\n",
      "|    max|               200|  Male|               70|              137|                99|\n",
      "+-------+------------------+------+-----------------+-----------------+------------------+\n",
      "\n"
     ]
    }
   ],
   "source": [
    "df.describe().show()"
   ]
  },
  {
   "cell_type": "code",
   "execution_count": 9,
   "id": "7bc14e95",
   "metadata": {},
   "outputs": [],
   "source": [
    "vector_assembler = VectorAssembler() \\\n",
    "    .setInputCols([\"Age\", \"AnnualIncome\", \"SpendingScore\"]) \\\n",
    "    .setOutputCol(\"features\")"
   ]
  },
  {
   "cell_type": "code",
   "execution_count": 10,
   "id": "eea951aa",
   "metadata": {},
   "outputs": [],
   "source": [
    "standard_scaler = StandardScaler() \\\n",
    "    .setInputCol(\"features\") \\\n",
    "    .setOutputCol(\"scaled_features\")"
   ]
  },
  {
   "cell_type": "code",
   "execution_count": 11,
   "id": "0e3fc4b2",
   "metadata": {},
   "outputs": [],
   "source": [
    "kmeans_obj = KMeans() \\\n",
    "    .setK(5) \\\n",
    "    .setSeed(142) \\\n",
    "    .setFeaturesCol(\"scaled_features\") \\\n",
    "    .setPredictionCol(\"cluster\")"
   ]
  },
  {
   "cell_type": "code",
   "execution_count": 12,
   "id": "03269ae3",
   "metadata": {},
   "outputs": [],
   "source": [
    "pipeline_obj = Pipeline() \\\n",
    "    .setStages([vector_assembler, standard_scaler, kmeans_obj])"
   ]
  },
  {
   "cell_type": "code",
   "execution_count": 13,
   "id": "7b25ad85",
   "metadata": {},
   "outputs": [],
   "source": [
    "pipeline_model = pipeline_obj.fit(df)"
   ]
  },
  {
   "cell_type": "code",
   "execution_count": 14,
   "id": "60f80b42",
   "metadata": {},
   "outputs": [],
   "source": [
    "transformed_df = pipeline_model.transform(df)"
   ]
  },
  {
   "cell_type": "code",
   "execution_count": 15,
   "id": "8564fbab",
   "metadata": {},
   "outputs": [
    {
     "data": {
      "text/html": [
       "<div>\n",
       "<style scoped>\n",
       "    .dataframe tbody tr th:only-of-type {\n",
       "        vertical-align: middle;\n",
       "    }\n",
       "\n",
       "    .dataframe tbody tr th {\n",
       "        vertical-align: top;\n",
       "    }\n",
       "\n",
       "    .dataframe thead th {\n",
       "        text-align: right;\n",
       "    }\n",
       "</style>\n",
       "<table border=\"1\" class=\"dataframe\">\n",
       "  <thead>\n",
       "    <tr style=\"text-align: right;\">\n",
       "      <th></th>\n",
       "      <th>CustomerID</th>\n",
       "      <th>Gender</th>\n",
       "      <th>Age</th>\n",
       "      <th>AnnualIncome</th>\n",
       "      <th>SpendingScore</th>\n",
       "      <th>features</th>\n",
       "      <th>scaled_features</th>\n",
       "      <th>cluster</th>\n",
       "    </tr>\n",
       "  </thead>\n",
       "  <tbody>\n",
       "    <tr>\n",
       "      <th>0</th>\n",
       "      <td>1</td>\n",
       "      <td>Male</td>\n",
       "      <td>19</td>\n",
       "      <td>15</td>\n",
       "      <td>39</td>\n",
       "      <td>[19.0, 15.0, 39.0]</td>\n",
       "      <td>[1.360153914235199, 0.5711082903036444, 1.5102...</td>\n",
       "      <td>2</td>\n",
       "    </tr>\n",
       "    <tr>\n",
       "      <th>1</th>\n",
       "      <td>2</td>\n",
       "      <td>Male</td>\n",
       "      <td>21</td>\n",
       "      <td>15</td>\n",
       "      <td>81</td>\n",
       "      <td>[21.0, 15.0, 81.0]</td>\n",
       "      <td>[1.503328010470483, 0.5711082903036444, 3.1366...</td>\n",
       "      <td>0</td>\n",
       "    </tr>\n",
       "    <tr>\n",
       "      <th>2</th>\n",
       "      <td>3</td>\n",
       "      <td>Female</td>\n",
       "      <td>20</td>\n",
       "      <td>16</td>\n",
       "      <td>6</td>\n",
       "      <td>[20.0, 16.0, 6.0]</td>\n",
       "      <td>[1.431740962352841, 0.6091821763238874, 0.2323...</td>\n",
       "      <td>2</td>\n",
       "    </tr>\n",
       "    <tr>\n",
       "      <th>3</th>\n",
       "      <td>4</td>\n",
       "      <td>Female</td>\n",
       "      <td>23</td>\n",
       "      <td>16</td>\n",
       "      <td>77</td>\n",
       "      <td>[23.0, 16.0, 77.0]</td>\n",
       "      <td>[1.6465021067057672, 0.6091821763238874, 2.981...</td>\n",
       "      <td>0</td>\n",
       "    </tr>\n",
       "    <tr>\n",
       "      <th>4</th>\n",
       "      <td>5</td>\n",
       "      <td>Female</td>\n",
       "      <td>31</td>\n",
       "      <td>17</td>\n",
       "      <td>40</td>\n",
       "      <td>[31.0, 17.0, 40.0]</td>\n",
       "      <td>[2.2191984916469036, 0.6472560623441304, 1.548...</td>\n",
       "      <td>2</td>\n",
       "    </tr>\n",
       "  </tbody>\n",
       "</table>\n",
       "</div>"
      ],
      "text/plain": [
       "   CustomerID  Gender  Age  AnnualIncome  SpendingScore            features  \\\n",
       "0           1    Male   19            15             39  [19.0, 15.0, 39.0]   \n",
       "1           2    Male   21            15             81  [21.0, 15.0, 81.0]   \n",
       "2           3  Female   20            16              6   [20.0, 16.0, 6.0]   \n",
       "3           4  Female   23            16             77  [23.0, 16.0, 77.0]   \n",
       "4           5  Female   31            17             40  [31.0, 17.0, 40.0]   \n",
       "\n",
       "                                     scaled_features  cluster  \n",
       "0  [1.360153914235199, 0.5711082903036444, 1.5102...        2  \n",
       "1  [1.503328010470483, 0.5711082903036444, 3.1366...        0  \n",
       "2  [1.431740962352841, 0.6091821763238874, 0.2323...        2  \n",
       "3  [1.6465021067057672, 0.6091821763238874, 2.981...        0  \n",
       "4  [2.2191984916469036, 0.6472560623441304, 1.548...        2  "
      ]
     },
     "execution_count": 15,
     "metadata": {},
     "output_type": "execute_result"
    }
   ],
   "source": [
    "transformed_df.limit(5).toPandas().head()"
   ]
  },
  {
   "cell_type": "code",
   "execution_count": 16,
   "id": "5e7ae42f",
   "metadata": {},
   "outputs": [
    {
     "name": "stdout",
     "output_type": "stream",
     "text": [
      "+-------+-----+\n",
      "|cluster|count|\n",
      "+-------+-----+\n",
      "|      1|   58|\n",
      "|      3|   34|\n",
      "|      4|   39|\n",
      "|      2|   47|\n",
      "|      0|   22|\n",
      "+-------+-----+\n",
      "\n"
     ]
    }
   ],
   "source": [
    "transformed_df.groupby(\"cluster\").count().show()"
   ]
  },
  {
   "cell_type": "code",
   "execution_count": 20,
   "id": "64101136",
   "metadata": {},
   "outputs": [
    {
     "name": "stdout",
     "output_type": "stream",
     "text": [
      "k: 2 0.4941138177999588\n",
      "k: 3 0.4551097395569455\n",
      "k: 4 0.584499291657808\n",
      "k: 5 0.5836269996802264\n",
      "k: 6 0.6133451611507313\n",
      "k: 7 0.5800427933568477\n",
      "k: 8 0.577588821499726\n",
      "k: 9 0.5755257731206147\n",
      "k: 10 0.5432447861610747\n"
     ]
    }
   ],
   "source": [
    "# optimal k (Silhouette Score)\n",
    "\n",
    "def runKMeans(df, k):\n",
    "    kmeans_obj = KMeans() \\\n",
    "    .setK(k) \\\n",
    "    .setSeed(142) \\\n",
    "    .setFeaturesCol(\"scaled_features\") \\\n",
    "    .setPredictionCol(\"cluster\")\n",
    "    \n",
    "    pipeline_obj = Pipeline() \\\n",
    "    .setStages([vector_assembler, standard_scaler, kmeans_obj])\n",
    "    \n",
    "    pipeline_model = pipeline_obj.fit(df)\n",
    "    \n",
    "    return pipeline_model\n",
    "\n",
    "\n",
    "for k in range(2,11):\n",
    "    pipeline_model = runKMeans(df, k)\n",
    "    transformed_df = pipeline_model.transform(df)\n",
    "    \n",
    "    evaluator = ClusteringEvaluator() \\\n",
    "        .setFeaturesCol(\"scaled_features\") \\\n",
    "        .setPredictionCol(\"cluster\") \\\n",
    "        .setMetricName(\"silhouette\")\n",
    "    \n",
    "    score = evaluator.evaluate(transformed_df)\n",
    "    print(\"k:\" , k, score)"
   ]
  },
  {
   "cell_type": "code",
   "execution_count": 21,
   "id": "325189c5",
   "metadata": {},
   "outputs": [],
   "source": [
    "spark.stop()"
   ]
  },
  {
   "cell_type": "code",
   "execution_count": null,
   "id": "5add75f1",
   "metadata": {},
   "outputs": [],
   "source": []
  }
 ],
 "metadata": {
  "kernelspec": {
   "display_name": "Python 3 (ipykernel)",
   "language": "python",
   "name": "python3"
  },
  "language_info": {
   "codemirror_mode": {
    "name": "ipython",
    "version": 3
   },
   "file_extension": ".py",
   "mimetype": "text/x-python",
   "name": "python",
   "nbconvert_exporter": "python",
   "pygments_lexer": "ipython3",
   "version": "3.9.17"
  }
 },
 "nbformat": 4,
 "nbformat_minor": 5
}
